{
 "cells": [
  {
   "attachments": {},
   "cell_type": "markdown",
   "metadata": {},
   "source": [
    "E06: meta-exercise! Think of a fun/interesting exercise and complete it."
   ]
  },
  {
   "attachments": {},
   "cell_type": "markdown",
   "metadata": {},
   "source": [
    "My idea is to use the model on a different data set, and see how it performs. I will use German street names, from the [OpenAdresses dataset of Germany](https://www.kaggle.com/datasets/openaddresses/openaddresses-europe?resource=download&select=germany.csv)"
   ]
  },
  {
   "cell_type": "code",
   "execution_count": 39,
   "metadata": {
    "id": "xS99zWIxlYnF",
    "pycharm": {
     "name": "#%%\n"
    }
   },
   "outputs": [],
   "source": [
    "import torch\n",
    "import torch.nn.functional as F\n",
    "from math import floor"
   ]
  },
  {
   "cell_type": "code",
   "execution_count": 40,
   "metadata": {},
   "outputs": [],
   "source": [
    "device = torch.device('cuda' if torch.cuda.is_available() else 'cpu')"
   ]
  },
  {
   "cell_type": "code",
   "execution_count": 41,
   "metadata": {
    "id": "smXrGT8fkBXb",
    "pycharm": {
     "name": "#%%\n"
    }
   },
   "outputs": [],
   "source": [
    "# Read in the dataset\n",
    "streetnames = open('../part1/street-names.txt', 'r', encoding='utf-8').read().splitlines()"
   ]
  },
  {
   "cell_type": "code",
   "execution_count": 42,
   "metadata": {},
   "outputs": [
    {
     "data": {
      "text/plain": [
       "['Krümpelstr.',\n",
       " 'Alfred-Seepe-Straße',\n",
       " 'Eitorfer Str.',\n",
       " 'Bürgeweg',\n",
       " 'Lager Str.',\n",
       " 'Maternusstraße',\n",
       " 'Am Schnellert',\n",
       " 'Hönde',\n",
       " 'Kleybergstraße',\n",
       " 'Haselwiese']"
      ]
     },
     "execution_count": 42,
     "metadata": {},
     "output_type": "execute_result"
    }
   ],
   "source": [
    "streetnames[:10]"
   ]
  },
  {
   "cell_type": "code",
   "execution_count": 43,
   "metadata": {},
   "outputs": [],
   "source": [
    "# Create training, dev, and test sets\n",
    "train_index = floor(len(streetnames) * 0.8)\n",
    "dev_index = floor(len(streetnames) * 0.9)\n",
    "\n",
    "train = streetnames[:train_index]\n",
    "dev = streetnames[train_index:dev_index]\n",
    "test = streetnames[dev_index:]"
   ]
  },
  {
   "cell_type": "code",
   "execution_count": 44,
   "metadata": {
    "id": "MSYXOJdDl_WC",
    "pycharm": {
     "name": "#%%\n"
    }
   },
   "outputs": [],
   "source": [
    "chars = sorted(list(set(''.join(['.'] + streetnames))))\n",
    "\n",
    "# Create look up tables for the alphabet\n",
    "  # stoi = string to index\n",
    "  # itos = index to string\n",
    "stoi = {s:i for i, s in enumerate(chars)}\n",
    "itos = {i:s for s, i in stoi.items()}"
   ]
  },
  {
   "cell_type": "code",
   "execution_count": 45,
   "metadata": {},
   "outputs": [
    {
     "data": {
      "text/plain": [
       "90"
      ]
     },
     "execution_count": 45,
     "metadata": {},
     "output_type": "execute_result"
    }
   ],
   "source": [
    "alphabet_size = len(chars)\n",
    "alphabet_size"
   ]
  },
  {
   "cell_type": "code",
   "execution_count": 46,
   "metadata": {
    "id": "Nvmdz3M6luLH",
    "pycharm": {
     "name": "#%%\n"
    }
   },
   "outputs": [
    {
     "name": "stdout",
     "output_type": "stream",
     "text": [
      "number of training examples:  1692547\n"
     ]
    }
   ],
   "source": [
    "xs_train,  ys_train = [], []\n",
    "\n",
    "# Create the training data\n",
    "# input xs: (ch1, ch2) \n",
    "# prediction ys: ch3\n",
    "for streetname in train:\n",
    "\n",
    "  # prepend two special characters and append one special characters to each streetname\n",
    "  chs = ['.'] * 2 + list(streetname) + ['.']\n",
    "  for ch1, ch2, ch3 in zip(chs, chs[1:], chs[2:]):\n",
    "    ix1 = stoi[ch1]\n",
    "    ix2 = stoi[ch2]\n",
    "    ix3 = stoi[ch3]\n",
    "    xs_train.append((ix1, ix2))\n",
    "    ys_train.append(ix3)\n",
    "\n",
    "num = len(xs_train)\n",
    "print('number of training examples: ', num)\n",
    "xs_train = torch.tensor(xs_train, device=device)\n",
    "ys_train = torch.tensor(ys_train, device=device)"
   ]
  },
  {
   "cell_type": "code",
   "execution_count": 47,
   "metadata": {},
   "outputs": [
    {
     "name": "stdout",
     "output_type": "stream",
     "text": [
      "number of training examples:  421578\n"
     ]
    }
   ],
   "source": [
    "xs_dev,  ys_dev = [], []\n",
    "for word in dev:\n",
    "  chs = ['.'] * 2 + list(word) + ['.']\n",
    "  for ch1, ch2, ch3 in zip(chs, chs[1:], chs[2:]):\n",
    "    ix1 = stoi[ch1]\n",
    "    ix2 = stoi[ch2]\n",
    "    ix3 = stoi[ch3]\n",
    "    xs_dev.append((ix1, ix2))\n",
    "    ys_dev.append(ix3)\n",
    "\n",
    "xs_dev = torch.tensor(xs_dev)\n",
    "ys_dev = torch.tensor(ys_dev)\n",
    "print('number of training examples: ', xs_dev.nelement())"
   ]
  },
  {
   "cell_type": "code",
   "execution_count": 48,
   "metadata": {},
   "outputs": [],
   "source": [
    "# Creat the test data\n",
    "xs_test,  ys_test = [], []\n",
    "for word in test:\n",
    "  chs = ['.'] * 2 + list(word) + ['.']\n",
    "  for ch1, ch2, ch3 in zip(chs, chs[1:], chs[2:]):\n",
    "    ix1 = stoi[ch1]\n",
    "    ix2 = stoi[ch2]\n",
    "    ix3 = stoi[ch3]\n",
    "    xs_test.append((ix1, ix2))\n",
    "    ys_test.append(ix3)\n",
    "\n",
    "xs_test = torch.tensor(xs_test)\n",
    "ys_test = torch.tensor(ys_test)"
   ]
  },
  {
   "cell_type": "code",
   "execution_count": 49,
   "metadata": {},
   "outputs": [],
   "source": [
    "g = torch.Generator(device=device).manual_seed(2147483647)\n",
    "W = torch.randn((alphabet_size*2, alphabet_size), generator=g, device=device, requires_grad=True)"
   ]
  },
  {
   "cell_type": "code",
   "execution_count": null,
   "metadata": {},
   "outputs": [],
   "source": [
    "# gradient descent\n",
    "iterations = 100\n",
    "learning_rate = 50\n",
    "smoothing_strenth = 0.01\n",
    "\n",
    "for k in range(iterations):\n",
    "\n",
    "  # forward pass\n",
    "  xenc= F.one_hot(xs_train, num_classes=alphabet_size).float()\n",
    "  xenc_flat = xenc.flatten(1) # flatten the one-hot encoded input vector\n",
    "  logits = xenc_flat @ W # predict log-counts\n",
    "  loss = F.cross_entropy(logits, ys_train) + smoothing_strenth * (W**2).mean() # compute loss\n",
    "  # print loss every 10% of iterations\n",
    "  if k % floor(iterations/10) == 0:\n",
    "    print(f'loss at step {k}: {loss.item():.3f}')\n",
    "\n",
    "  # backward pass\n",
    "  W.grad = None # flush the gradients\n",
    "  loss.backward()\n",
    "\n",
    "  # update step\n",
    "  cool_down = 1.0 / (1 + 0.001 * k)\n",
    "  W.data += -learning_rate * W.grad\n",
    "print(f'final training loss: {loss.item():.3f}, with smoothing strength {smoothing_strenth}')"
   ]
  },
  {
   "cell_type": "code",
   "execution_count": null,
   "metadata": {},
   "outputs": [],
   "source": [
    "# Evaluate the model on the dev set\n",
    "xenc= F.one_hot(xs_dev, num_classes=alphabet_size).float()\n",
    "xenc_flat = xenc.flatten(1) # flatten the one-hot encoded input vector\n",
    "logits = xenc_flat @ W # predict log-counts\n",
    "# softmax\n",
    "counts = logits.exp() # counts\n",
    "probs = counts / counts.sum(1, keepdims=True) # probabilities for next character\n",
    "# loss function (cross-entropy) + regularization (L2)\n",
    "loss = F.cross_entropy(logits, ys_dev)\n",
    "print(f'loss on dev set: {loss.item():.3f}, with smoothing strength {smoothing_strenth}')"
   ]
  },
  {
   "cell_type": "code",
   "execution_count": null,
   "metadata": {},
   "outputs": [],
   "source": [
    "# Evaluate the model on the test set\n",
    "xenc= F.one_hot(xs_test, num_classes=alphabet_size).float()\n",
    "xenc_flat = xenc.flatten(1) # flatten the one-hot encoded input vector\n",
    "logits = xenc_flat @ W # predict log-counts\n",
    "# softmax\n",
    "counts = logits.exp() # counts\n",
    "probs = counts / counts.sum(1, keepdims=True) # probabilities for next character\n",
    "# loss function (cross-entropy) + regularization (L2)\n",
    "loss = F.cross_entropy(logits, ys_test) + smoothing_strenth * (W**2).mean() # compute loss\n",
    "print(f'loss on test set: {loss.item():.3f}')"
   ]
  },
  {
   "cell_type": "code",
   "execution_count": null,
   "metadata": {},
   "outputs": [],
   "source": [
    "g = torch.Generator(device=device).manual_seed(2147483647)\n",
    "# sample street names\n",
    "name_count = 20\n",
    "sampled_street_names = []\n",
    "for i in range(name_count):\n",
    "\n",
    "  out = []\n",
    "  ix1 = 0\n",
    "  ix2 = 0\n",
    "\n",
    "  while True:\n",
    "    xenc = F.one_hot(torch.tensor([ix1, ix2], device=device), num_classes=alphabet_size).float()\n",
    "    xenc_flat = xenc.flatten()\n",
    "    logits = xenc_flat @ W # predict log-counts\n",
    "    # softmax\n",
    "    counts = logits.exp() # counts, equivalent to N\n",
    "    p = counts / counts.sum(0, keepdims=True) # probabilities for next character\n",
    "    \n",
    "    # move index to next character\n",
    "    ix1 = ix2\n",
    "    ix2 = torch.multinomial(p, num_samples=1, replacement=True, generator=g).item()\n",
    "    out.append(itos[ix2])\n",
    "    if ix2 == 0:\n",
    "      # stop if we reach the end of the word\n",
    "      # 0 is the index of the special character '.'\n",
    "      break\n",
    "\n",
    "  sampled_street_names.append(''.join(out))\n",
    "print(sampled_street_names)"
   ]
  }
 ],
 "metadata": {
  "colab": {
   "provenance": []
  },
  "kernelspec": {
   "display_name": "Python 3",
   "language": "python",
   "name": "python3"
  },
  "language_info": {
   "codemirror_mode": {
    "name": "ipython",
    "version": 3
   },
   "file_extension": ".py",
   "mimetype": "text/x-python",
   "name": "python",
   "nbconvert_exporter": "python",
   "pygments_lexer": "ipython3",
   "version": "3.9.1"
  },
  "vscode": {
   "interpreter": {
    "hash": "81794d4967e6c3204c66dcd87b604927b115b27c00565d3d43f05ba2f3a2cb0d"
   }
  }
 },
 "nbformat": 4,
 "nbformat_minor": 0
}
