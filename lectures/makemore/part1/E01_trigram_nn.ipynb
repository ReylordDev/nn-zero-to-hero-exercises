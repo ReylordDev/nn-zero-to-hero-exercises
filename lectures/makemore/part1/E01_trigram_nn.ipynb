{
 "cells": [
  {
   "cell_type": "code",
   "execution_count": 731,
   "metadata": {},
   "outputs": [],
   "source": [
    "import matplotlib.pyplot as plt\n",
    "%matplotlib inline"
   ]
  },
  {
   "cell_type": "code",
   "execution_count": 732,
   "metadata": {
    "id": "xS99zWIxlYnF",
    "pycharm": {
     "name": "#%%\n"
    }
   },
   "outputs": [],
   "source": [
    "import torch"
   ]
  },
  {
   "cell_type": "code",
   "execution_count": 733,
   "metadata": {
    "id": "smXrGT8fkBXb",
    "pycharm": {
     "name": "#%%\n"
    }
   },
   "outputs": [],
   "source": [
    "words = open('../names.txt', 'r').read().splitlines()"
   ]
  },
  {
   "cell_type": "code",
   "execution_count": 734,
   "metadata": {
    "id": "MSYXOJdDl_WC",
    "pycharm": {
     "name": "#%%\n"
    }
   },
   "outputs": [],
   "source": [
    "chars = sorted(list(set(''.join(['.'] + words))))\n",
    "\n",
    "stoi = {s:i for i, s in enumerate(chars)}\n",
    "itos = {i:s for s, i in stoi.items()}"
   ]
  },
  {
   "cell_type": "code",
   "execution_count": 735,
   "metadata": {
    "id": "Nvmdz3M6luLH",
    "pycharm": {
     "name": "#%%\n"
    }
   },
   "outputs": [
    {
     "name": "stdout",
     "output_type": "stream",
     "text": [
      "number of examples:  520358\n"
     ]
    }
   ],
   "source": [
    "xs,  ys = [], []\n",
    "\n",
    "for word in words:\n",
    "  chs = ['.'] * 2 + list(word) + ['.'] * 2\n",
    "  for ch1, ch2, ch3 in zip(chs, chs[1:], chs[2:]):\n",
    "    ix1 = stoi[ch1]\n",
    "    ix2 = stoi[ch2]\n",
    "    ix3 = stoi[ch3]\n",
    "    xs.append([ix1, ix2])\n",
    "    ys.append(ix3)\n",
    "\n",
    "xs = torch.tensor(xs)\n",
    "ys = torch.tensor(ys)\n",
    "num = xs.nelement()\n",
    "print('number of examples: ', num)"
   ]
  },
  {
   "cell_type": "code",
   "execution_count": 736,
   "metadata": {},
   "outputs": [],
   "source": [
    "import torch.nn.functional as F"
   ]
  },
  {
   "cell_type": "code",
   "execution_count": 737,
   "metadata": {},
   "outputs": [],
   "source": [
    "g = torch.Generator().manual_seed(2147483647)"
   ]
  },
  {
   "cell_type": "code",
   "execution_count": 738,
   "metadata": {},
   "outputs": [],
   "source": [
    "W = torch.randn((27*2, 27), generator=g, requires_grad=True)"
   ]
  },
  {
   "cell_type": "code",
   "execution_count": 739,
   "metadata": {},
   "outputs": [
    {
     "name": "stdout",
     "output_type": "stream",
     "text": [
      "2.13441801071167\n"
     ]
    }
   ],
   "source": [
    "from math import floor\n",
    "gradient_descent_count = 50\n",
    "learning_rate = 50\n",
    "for k in range(gradient_descent_count):\n",
    "\n",
    "  # forward pass\n",
    "  xenc= F.one_hot(xs, num_classes=27).float()\n",
    "  xenc_flat = xenc.flatten(1)\n",
    "  logits = xenc_flat @ W # predict log-counts\n",
    "  counts = logits.exp() # counts, equivalent to N\n",
    "  probs = counts / counts.sum(1, keepdims=True) # probabilities for next character\n",
    "  loss = -probs[torch.arange(floor(num / 2)), ys].log().mean() + 0.01**(W**2).mean()\n",
    "\n",
    "  # backward pass\n",
    "  W.grad = None # set to zero the gradient\n",
    "  loss.backward()\n",
    "\n",
    "  # update step\n",
    "  W.data += -learning_rate * W.grad\n",
    "print(loss.item())"
   ]
  },
  {
   "cell_type": "code",
   "execution_count": 750,
   "metadata": {},
   "outputs": [
    {
     "name": "stdout",
     "output_type": "stream",
     "text": [
      "maelyyliibrjazia.\n",
      "piontt.\n",
      "ch.\n",
      "duj.\n",
      "ryebovilahedricosebybrewlen.\n"
     ]
    }
   ],
   "source": [
    "for i in range(5):\n",
    "\n",
    "  out = []\n",
    "  ix1 = 0\n",
    "  ix2 = 0\n",
    "  while True:\n",
    "    # unsure on this\n",
    "    xenc = F.one_hot(torch.tensor([ix1, ix2]), num_classes=27).float()\n",
    "    xenc_flat = xenc.flatten(0)\n",
    "    logits = xenc_flat @ W # predict log-counts\n",
    "    # time to soft-max\n",
    "    counts = logits.exp() # counts, equivalent to N\n",
    "    p = counts / counts.sum(0, keepdims=True) # probabilities for next character\n",
    "    \n",
    "    ix1 = ix2\n",
    "    ix2 = torch.multinomial(p, num_samples=1, replacement=True, generator=g).item()\n",
    "    out.append(itos[ix2])\n",
    "    if ix2 == 0:\n",
    "      break\n",
    "  print(''.join(out))"
   ]
  },
  {
   "attachments": {},
   "cell_type": "markdown",
   "metadata": {},
   "source": [
    "# Evaluation of trigram neural network\n",
    "\n",
    "loss: 2.13\n",
    "\n",
    "Improvement compared to bigram model: 2.45-2.13 = 0.32\n",
    "\n",
    "compared to trigram counts: 2.13-1.94 = 0.19\n",
    "\n",
    "The neural network trigram model does a little bit worse than the trigram model based on counts, but it is still better than the bigram model."
   ]
  }
 ],
 "metadata": {
  "colab": {
   "provenance": []
  },
  "kernelspec": {
   "display_name": "Python 3",
   "language": "python",
   "name": "python3"
  },
  "language_info": {
   "codemirror_mode": {
    "name": "ipython",
    "version": 3
   },
   "file_extension": ".py",
   "mimetype": "text/x-python",
   "name": "python",
   "nbconvert_exporter": "python",
   "pygments_lexer": "ipython3",
   "version": "3.9.1"
  },
  "vscode": {
   "interpreter": {
    "hash": "81794d4967e6c3204c66dcd87b604927b115b27c00565d3d43f05ba2f3a2cb0d"
   }
  }
 },
 "nbformat": 4,
 "nbformat_minor": 0
}
