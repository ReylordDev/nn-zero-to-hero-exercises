{
 "cells": [
  {
   "cell_type": "code",
   "execution_count": 209,
   "metadata": {
    "id": "xS99zWIxlYnF",
    "pycharm": {
     "name": "#%%\n"
    }
   },
   "outputs": [],
   "source": [
    "import torch\n",
    "import torch.nn.functional as F"
   ]
  },
  {
   "cell_type": "code",
   "execution_count": 210,
   "metadata": {
    "id": "smXrGT8fkBXb",
    "pycharm": {
     "name": "#%%\n"
    }
   },
   "outputs": [],
   "source": [
    "# Read in the names\n",
    "words = open('../names.txt', 'r').read().splitlines()"
   ]
  },
  {
   "cell_type": "code",
   "execution_count": 211,
   "metadata": {
    "id": "MSYXOJdDl_WC",
    "pycharm": {
     "name": "#%%\n"
    }
   },
   "outputs": [],
   "source": [
    "chars = sorted(list(set(''.join(['.'] + words))))\n",
    "\n",
    "# Create look up tables for the alphabet\n",
    "  # stoi = string to index\n",
    "  # itos = index to string\n",
    "stoi = {s:i for i, s in enumerate(chars)}\n",
    "itos = {i:s for s, i in stoi.items()}"
   ]
  },
  {
   "cell_type": "code",
   "execution_count": 212,
   "metadata": {
    "id": "Nvmdz3M6luLH",
    "pycharm": {
     "name": "#%%\n"
    }
   },
   "outputs": [
    {
     "name": "stdout",
     "output_type": "stream",
     "text": [
      "number of examples:  228146\n"
     ]
    }
   ],
   "source": [
    "xs,  ys = [], []\n",
    "\n",
    "# Create the training data\n",
    "# input xs: (ch1, ch2) \n",
    "# prediction ys: ch3\n",
    "for word in words:\n",
    "\n",
    "  # prepend two special characters and append one special characters to each word\n",
    "  chs = ['.'] * 2 + list(word) + ['.']\n",
    "  # Example for 'anna\": \n",
    "  # zip(chs, chs[1:], chs[2:]) = \n",
    "  # [('.', '.', 'a'), ('.', 'a', 'n'), ('a', 'n', 'n'), ('n', 'n', 'a'), ('n', 'a', '.')]\n",
    "  for ch1, ch2, ch3 in zip(chs, chs[1:], chs[2:]):\n",
    "    ix1 = stoi[ch1]\n",
    "    ix2 = stoi[ch2]\n",
    "    ix3 = stoi[ch3]\n",
    "    xs.append((ix1, ix2))\n",
    "    ys.append(ix3)\n",
    "\n",
    "num = len(xs)\n",
    "print('number of examples: ', num)\n",
    "xs = torch.tensor(xs)\n",
    "ys = torch.tensor(ys)"
   ]
  },
  {
   "cell_type": "code",
   "execution_count": 213,
   "metadata": {},
   "outputs": [],
   "source": [
    "g = torch.Generator().manual_seed(2147483647)\n",
    "# weight matrix with 54 input nodes and 27 output nodes\n",
    "W = torch.randn((27*2, 27), generator=g, requires_grad=True)"
   ]
  },
  {
   "cell_type": "code",
   "execution_count": 214,
   "metadata": {},
   "outputs": [
    {
     "name": "stdout",
     "output_type": "stream",
     "text": [
      "loss at step 0: 4.242\n",
      "loss at step 10: 2.633\n",
      "loss at step 20: 2.511\n",
      "loss at step 30: 2.466\n",
      "loss at step 40: 2.441\n",
      "loss at step 50: 2.426\n",
      "loss at step 60: 2.415\n",
      "loss at step 70: 2.408\n",
      "loss at step 80: 2.402\n",
      "loss at step 90: 2.397\n"
     ]
    }
   ],
   "source": [
    "from math import floor\n",
    "\n",
    "# gradient descent\n",
    "iterations = 100\n",
    "learning_rate = 50\n",
    "\n",
    "for k in range(iterations):\n",
    "\n",
    "  # forward pass\n",
    "  xenc= F.one_hot(xs, num_classes=27).float()\n",
    "  xenc_flat = xenc.flatten(1) # flatten the one-hot encoded input vector\n",
    "  logits = xenc_flat @ W # predict log-counts\n",
    "  # softmax\n",
    "  counts = logits.exp() # counts\n",
    "  probs = counts / counts.sum(1, keepdims=True) # probabilities for next character\n",
    "  # loss function (cross-entropy) + regularization (L2)\n",
    "  loss = -probs[torch.arange(num), ys].log().mean() + 0.01*(W**2).mean()\n",
    "  # print loss every 10% of iterations\n",
    "  if k % floor(iterations/10) == 0:\n",
    "    print(f'loss at step {k}: {loss.item():.3f}')\n",
    "\n",
    "  # backward pass\n",
    "  W.grad = None # flush the gradients\n",
    "  loss.backward()\n",
    "\n",
    "  # update step\n",
    "  cool_down = 1.0 / (1 + 0.001 * k)\n",
    "  W.data += -learning_rate * cool_down * W.grad"
   ]
  },
  {
   "cell_type": "code",
   "execution_count": 215,
   "metadata": {},
   "outputs": [
    {
     "name": "stdout",
     "output_type": "stream",
     "text": [
      "['lon.', 'ays.', 'len.', 'veroydbraisemiabrada.', 'lanthizarie.', 'na.', 'nah.', 'edakaulaicherierielah.', 'yonk.', 'da.', 'ta.', 'aliyn.', 'eman.', 'kilon.', 'brien.', 'ah.', 'ca.', 'glena.', 'aausts.', 'kalirnitaey.']\n"
     ]
    }
   ],
   "source": [
    "g = torch.Generator().manual_seed(2147483647)\n",
    "# sample names\n",
    "name_count = 20\n",
    "sampled_words = []\n",
    "for i in range(name_count):\n",
    "\n",
    "  out = []\n",
    "  ix1 = 0\n",
    "  ix2 = 0\n",
    "\n",
    "  while True:\n",
    "    xenc = F.one_hot(torch.tensor([ix1, ix2]), num_classes=27).float()\n",
    "    xenc_flat = xenc.flatten()\n",
    "    logits = xenc_flat @ W # predict log-counts\n",
    "    # softmax\n",
    "    counts = logits.exp() # counts, equivalent to N\n",
    "    p = counts / counts.sum(0, keepdims=True) # probabilities for next character\n",
    "    \n",
    "    # move index to next character\n",
    "    ix1 = ix2\n",
    "    ix2 = torch.multinomial(p, num_samples=1, replacement=True, generator=g).item()\n",
    "    out.append(itos[ix2])\n",
    "    if ix2 == 0:\n",
    "      # stop if we reach the end of the word\n",
    "      # 0 is the index of the special character '.'\n",
    "      break\n",
    "\n",
    "  sampled_words.append(''.join(out))\n",
    "print(sampled_words)"
   ]
  },
  {
   "attachments": {},
   "cell_type": "markdown",
   "metadata": {},
   "source": [
    "# Evaluation of trigram neural network\n",
    "\n",
    "loss: 2.397\n",
    "\n",
    "The neural network trigram model does a little bit worse than the trigram model based on counts, but it is still better than the bigram model."
   ]
  }
 ],
 "metadata": {
  "colab": {
   "provenance": []
  },
  "kernelspec": {
   "display_name": "Python 3",
   "language": "python",
   "name": "python3"
  },
  "language_info": {
   "codemirror_mode": {
    "name": "ipython",
    "version": 3
   },
   "file_extension": ".py",
   "mimetype": "text/x-python",
   "name": "python",
   "nbconvert_exporter": "python",
   "pygments_lexer": "ipython3",
   "version": "3.9.1"
  },
  "vscode": {
   "interpreter": {
    "hash": "81794d4967e6c3204c66dcd87b604927b115b27c00565d3d43f05ba2f3a2cb0d"
   }
  }
 },
 "nbformat": 4,
 "nbformat_minor": 0
}
