{
 "cells": [
  {
   "cell_type": "code",
   "execution_count": 2,
   "metadata": {
    "id": "xS99zWIxlYnF",
    "pycharm": {
     "name": "#%%\n"
    }
   },
   "outputs": [
    {
     "ename": "ModuleNotFoundError",
     "evalue": "No module named 'torch'",
     "output_type": "error",
     "traceback": [
      "\u001B[1;31m---------------------------------------------------------------------------\u001B[0m",
      "\u001B[1;31mModuleNotFoundError\u001B[0m                       Traceback (most recent call last)",
      "Cell \u001B[1;32mIn[2], line 1\u001B[0m\n\u001B[1;32m----> 1\u001B[0m \u001B[39mimport\u001B[39;00m \u001B[39mtorch\u001B[39;00m\n",
      "\u001B[1;31mModuleNotFoundError\u001B[0m: No module named 'torch'"
     ]
    }
   ],
   "source": [
    "import torch"
   ]
  },
  {
   "cell_type": "code",
   "execution_count": 1,
   "metadata": {
    "id": "smXrGT8fkBXb",
    "pycharm": {
     "name": "#%%\n"
    }
   },
   "outputs": [],
   "source": [
    "words = open('words.txt', 'r').read().splitlines()"
   ]
  },
  {
   "cell_type": "code",
   "execution_count": null,
   "metadata": {
    "id": "MSYXOJdDl_WC",
    "pycharm": {
     "name": "#%%\n"
    }
   },
   "outputs": [],
   "source": [
    "chars = sorted(list(set(''.join(['.'] + words))))\n",
    "\n",
    "stoi = {s:i for s, i in enumerate(chars)}\n",
    "itos = {i:s for s, i in stoi.items()}"
   ]
  },
  {
   "cell_type": "code",
   "execution_count": null,
   "metadata": {
    "id": "Nvmdz3M6luLH",
    "pycharm": {
     "name": "#%%\n"
    }
   },
   "outputs": [],
   "source": [
    "xs,  ys = [], []\n",
    "\n",
    "for word in words[:1]:\n",
    "  chs = ['.'] * 2 + list(word) + ['.'] * 2\n",
    "  for ch1, ch2, ch3 in zip(chs, chs[1:], chs[2:]):\n",
    "    ix1 = itos[ch1]\n",
    "    ix2 = itos[ch2]\n",
    "    ix3 = itos[ch3]\n",
    "    xs.append([ix1, ix2])\n",
    "    ys.append(ix3)\n",
    "\n",
    "xs = torch.tensor(xs)\n",
    "ys = torch.tensor(ys)"
   ]
  },
  {
   "cell_type": "code",
   "execution_count": null,
   "metadata": {
    "id": "_-e3yfdCr_wc",
    "pycharm": {
     "name": "#%%\n"
    }
   },
   "outputs": [],
   "source": [
    "P = (N+1).float()\n",
    "P /= P.sum(2, keepdim=True)"
   ]
  },
  {
   "cell_type": "code",
   "execution_count": null,
   "metadata": {
    "colab": {
     "base_uri": "https://localhost:8080/"
    },
    "id": "vJGEnJmbyO8D",
    "outputId": "36f1b9c1-375d-469e-b0ac-00ebdc3086c9",
    "pycharm": {
     "name": "#%%\n"
    }
   },
   "outputs": [],
   "source": [
    "g = torch.Generator().manual_seed(2147483647)\n",
    "\n",
    "for i in range(5):\n",
    "  out = []\n",
    "  ix1 = 0\n",
    "  ix2 = 0\n",
    "  while True:\n",
    "    p = P[ix1, ix2]\n",
    "    ix_new = torch.multinomial(p, num_samples=1, replacement=True, generator=g).item()\n",
    "    out.append(stoi[ix_new])\n",
    "    ix1 = ix2\n",
    "    ix2 = ix_new\n",
    "    if ix_new == 0:\n",
    "      break\n",
    "  print(''.join(out))\n"
   ]
  },
  {
   "cell_type": "code",
   "execution_count": null,
   "metadata": {
    "colab": {
     "base_uri": "https://localhost:8080/"
    },
    "id": "iWqRBcat7Iml",
    "outputId": "a4b061d6-8082-4aa9-d0ab-393e8f2da759",
    "pycharm": {
     "name": "#%%\n"
    }
   },
   "outputs": [],
   "source": [
    "log_likelihood = 0.0\n",
    "n = 0\n",
    "\n",
    "for word in words:\n",
    "  chs = ['.'] * 2 + list(word) + ['.'] * 2\n",
    "  for ch1, ch2, ch3 in zip(chs, chs[1:], chs[2:]):\n",
    "    ix1 = itos[ch1]\n",
    "    ix2 = itos[ch2]\n",
    "    ix3 = itos[ch3]\n",
    "    prob = P[ix1, ix2, ix3]\n",
    "    log_likelihood += torch.log(prob)\n",
    "    n += 1\n",
    "nll = -log_likelihood\n",
    "print(f'{nll=:.2f}')\n",
    "print(f'{nll/n:.2f}')"
   ]
  },
  {
   "cell_type": "code",
   "execution_count": null,
   "metadata": {
    "id": "fR3e7PuO7J3L",
    "pycharm": {
     "name": "#%%\n"
    }
   },
   "outputs": [],
   "source": []
  }
 ],
 "metadata": {
  "colab": {
   "provenance": []
  },
  "kernelspec": {
   "display_name": "Python 3",
   "language": "python",
   "name": "python3"
  },
  "language_info": {
   "codemirror_mode": {
    "name": "ipython",
    "version": 3
   },
   "file_extension": ".py",
   "mimetype": "text/x-python",
   "name": "python",
   "nbconvert_exporter": "python",
   "pygments_lexer": "ipython3",
   "version": "3.10.10"
  },
  "vscode": {
   "interpreter": {
    "hash": "c253a00b36d4ac06ebc72e442e4244218a0c140301523012d66971a2f0d93b6b"
   }
  }
 },
 "nbformat": 4,
 "nbformat_minor": 0
}