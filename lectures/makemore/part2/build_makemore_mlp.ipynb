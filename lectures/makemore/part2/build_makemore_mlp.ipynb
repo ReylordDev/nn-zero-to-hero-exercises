{
  "cells": [
    {
      "attachments": {},
      "cell_type": "markdown",
      "metadata": {
        "colab_type": "text",
        "id": "view-in-github"
      },
      "source": [
        "<a href=\"https://colab.research.google.com/github/ReylordDev/nn-zero-to-hero-exercises/blob/master/lectures/makemore/part2/build_makemore_mlp.ipynb\" target=\"_parent\"><img src=\"https://colab.research.google.com/assets/colab-badge.svg\" alt=\"Open In Colab\"/></a>"
      ]
    },
    {
      "cell_type": "code",
      "execution_count": 13,
      "metadata": {
        "id": "vowXRstocd8F"
      },
      "outputs": [],
      "source": [
        "import torch\n",
        "import torch.nn.functional as F\n",
        "import matplotlib.pyplot as plt # for making figures\n",
        "%matplotlib inline"
      ]
    },
    {
      "cell_type": "code",
      "execution_count": 14,
      "metadata": {},
      "outputs": [],
      "source": [
        "device = torch.device('cuda' if torch.cuda.is_available() else 'cpu')"
      ]
    },
    {
      "cell_type": "code",
      "execution_count": 15,
      "metadata": {
        "colab": {
          "base_uri": "https://localhost:8080/"
        },
        "id": "9Rlc3YeWcm_d",
        "outputId": "cb8e6290-6428-4a2d-9e78-995c6e90f5c3"
      },
      "outputs": [],
      "source": [
        "# If running from colab:\n",
        "# download the names.txt file from github\n",
        "# !wget https://raw.githubusercontent.com/ReylordDev/nn-zero-to-hero-exercises/master/lectures/makemore/names.txt"
      ]
    },
    {
      "cell_type": "code",
      "execution_count": 16,
      "metadata": {
        "colab": {
          "base_uri": "https://localhost:8080/"
        },
        "id": "uH2MGP4FcidR",
        "outputId": "7a128b70-343a-493a-85f4-3e80293695be"
      },
      "outputs": [],
      "source": [
        "# change path to 'names.txt' if running in colab\n",
        "words = open('../names.txt', 'r').read().splitlines()"
      ]
    },
    {
      "cell_type": "code",
      "execution_count": 17,
      "metadata": {
        "colab": {
          "base_uri": "https://localhost:8080/"
        },
        "id": "EYnXhmWVcx-l",
        "outputId": "6dcad8cf-9caf-401d-e772-c26ac8f93f39"
      },
      "outputs": [],
      "source": [
        "# build the vocabulary of characters and mappings to/from integers\n",
        "chars = sorted(list(set(''.join(words))))\n",
        "stoi = {s:i+1 for i,s in enumerate(chars)}\n",
        "stoi['.'] = 0\n",
        "itos = {i:s for s,i in stoi.items()}"
      ]
    },
    {
      "cell_type": "code",
      "execution_count": 18,
      "metadata": {},
      "outputs": [],
      "source": [
        "train_split_index = int(len(words)*0.8)\n",
        "dev_split_index = int(len(words)*0.9)"
      ]
    },
    {
      "cell_type": "code",
      "execution_count": null,
      "metadata": {},
      "outputs": [],
      "source": [
        "experiments = []"
      ]
    },
    {
      "cell_type": "code",
      "execution_count": null,
      "metadata": {},
      "outputs": [],
      "source": [
        "block_size = 3 # context length: how many characters do we take to predict the next one?\n",
        "embedding_dimensions = 10 # how many dimensions should the projected space of the characters have?\n",
        "layer1_size = 200 # how many neurons should the first layer have? Layer 2 will have the same number of neurons to match dimensions.\n",
        "training_steps = 30000 # how many training steps should we take?\n",
        "minibatch_size = 32 # how many examples should we use to update the weights at each step?\n"
      ]
    },
    {
      "cell_type": "code",
      "execution_count": 19,
      "metadata": {
        "colab": {
          "base_uri": "https://localhost:8080/"
        },
        "id": "MB5XgJxdczFi",
        "outputId": "ce4e48c3-b9f7-4d1d-9e9a-47c37beb326e"
      },
      "outputs": [
        {
          "name": "stdout",
          "output_type": "stream",
          "text": [
            "torch.Size([182625, 3]) torch.Size([182625])\n",
            "torch.Size([22655, 3]) torch.Size([22655])\n",
            "torch.Size([22866, 3]) torch.Size([22866])\n"
          ]
        }
      ],
      "source": [
        "# build the dataset\n",
        "\n",
        "def build_dataset(words):\n",
        "  X, Y = [], []\n",
        "  for w in words:\n",
        "\n",
        "    #print(w)\n",
        "    context = [0] * block_size\n",
        "    for ch in w + '.':\n",
        "      ix = stoi[ch]\n",
        "      X.append(context)\n",
        "      Y.append(ix)\n",
        "      #print(''.join(itos[i] for i in context), '--->', itos[ix])\n",
        "      context = context[1:] + [ix] # crop and append\n",
        "\n",
        "  X = torch.tensor(X, device=device)\n",
        "  Y = torch.tensor(Y, device=device)\n",
        "  print(X.shape, Y.shape)\n",
        "  return X, Y\n",
        "\n",
        "import random\n",
        "random.seed(42)\n",
        "random.shuffle(words)\n",
        "\n",
        "Xtr, Ytr = build_dataset(words[:train_split_index])\n",
        "Xdev, Ydev = build_dataset(words[train_split_index:dev_split_index])\n",
        "Xte, Yte = build_dataset(words[dev_split_index:])"
      ]
    },
    {
      "cell_type": "code",
      "execution_count": 20,
      "metadata": {
        "id": "EAA0_oigc13X"
      },
      "outputs": [],
      "source": [
        "g = torch.Generator(device=device).manual_seed(2147483647) # for reproducibility\n",
        "C = torch.randn((27, embedding_dimensions), generator=g, device=device)\n",
        "W1 = torch.randn((block_size * embedding_dimensions, layer1_size), generator=g, device=device)\n",
        "b1 = torch.randn(layer1_size, generator=g, device=device)\n",
        "W2 = torch.randn((layer1_size, 27), generator=g, device=device)\n",
        "b2 = torch.randn(27, generator=g, device=device)\n",
        "parameters = [C, W1, b1, W2, b2]"
      ]
    },
    {
      "cell_type": "code",
      "execution_count": 21,
      "metadata": {
        "colab": {
          "base_uri": "https://localhost:8080/"
        },
        "id": "_HcVef6-c5S4",
        "outputId": "fbcc9087-e5c6-4916-ba32-45812804bea0"
      },
      "outputs": [
        {
          "data": {
            "text/plain": [
              "11897"
            ]
          },
          "execution_count": 21,
          "metadata": {},
          "output_type": "execute_result"
        }
      ],
      "source": [
        "n_parameters = sum(p.nelement() for p in parameters) # number of parameters in total"
      ]
    },
    {
      "cell_type": "code",
      "execution_count": 22,
      "metadata": {
        "id": "coNBea1sc6tm"
      },
      "outputs": [],
      "source": [
        "for p in parameters:\n",
        "  p.requires_grad = True"
      ]
    },
    {
      "cell_type": "code",
      "execution_count": 23,
      "metadata": {
        "id": "nFWpAj_9c9Yr"
      },
      "outputs": [],
      "source": [
        "# learning rates\n",
        "lre = torch.linspace(-3, 0, 1000)\n",
        "lrs = 10**lre"
      ]
    },
    {
      "cell_type": "code",
      "execution_count": 24,
      "metadata": {
        "id": "t2huuyTudBlF"
      },
      "outputs": [],
      "source": [
        "lri = []\n",
        "lossi = []\n",
        "stepi = []"
      ]
    },
    {
      "cell_type": "code",
      "execution_count": 25,
      "metadata": {
        "id": "jiKD-PPOdClh"
      },
      "outputs": [],
      "source": [
        "\n",
        "for i in range(training_steps):\n",
        "  \n",
        "  # minibatch construct\n",
        "  ix = torch.randint(0, Xtr.shape[0], (minibatch_size,), device=device)\n",
        "  \n",
        "  # forward pass\n",
        "  emb = C[Xtr[ix]] # (32, 3, 2)\n",
        "  h = torch.tanh(emb.view(-1, block_size * embedding_dimensions) @ W1 + b1) # (32, 100)\n",
        "  logits = h @ W2 + b2 # (32, 27)\n",
        "  loss = F.cross_entropy(logits, Ytr[ix])\n",
        "  #print(loss.item())\n",
        "  \n",
        "  # backward pass\n",
        "  for p in parameters:\n",
        "    p.grad = None\n",
        "  loss.backward()\n",
        "  \n",
        "  # update\n",
        "  #lr = lrs[i]\n",
        "  lr = 0.1 if i < (training_steps / 2) else 0.01\n",
        "  for p in parameters:\n",
        "    p.data += -lr * p.grad\n",
        "\n",
        "  # track stats\n",
        "  stepi.append(i)\n",
        "  lossi.append(loss.log10().item())\n",
        "\n",
        "#print(loss.item())"
      ]
    },
    {
      "cell_type": "code",
      "execution_count": 27,
      "metadata": {
        "colab": {
          "base_uri": "https://localhost:8080/"
        },
        "id": "ZlhYinNgdIVF",
        "outputId": "b11e07b9-827b-416d-b70d-a206a6124598"
      },
      "outputs": [
        {
          "data": {
            "text/plain": [
              "tensor(4.0595, grad_fn=<NllLossBackward0>)"
            ]
          },
          "execution_count": 27,
          "metadata": {},
          "output_type": "execute_result"
        }
      ],
      "source": [
        "# training loss \n",
        "emb = C[Xtr] # (32, 3, 2)\n",
        "h = torch.tanh(emb.view(-1, block_size * embedding_dimensions) @ W1 + b1) # (32, 100)\n",
        "logits = h @ W2 + b2 # (32, 27)\n",
        "loss = F.cross_entropy(logits, Ytr)\n",
        "training_loss = loss.item()\n",
        "loss"
      ]
    },
    {
      "cell_type": "code",
      "execution_count": 28,
      "metadata": {
        "colab": {
          "base_uri": "https://localhost:8080/"
        },
        "id": "cJH3DDu4dLTM",
        "outputId": "d87a5a80-edcf-4fb0-9984-b9dc553521cd"
      },
      "outputs": [
        {
          "data": {
            "text/plain": [
              "tensor(4.0495, grad_fn=<NllLossBackward0>)"
            ]
          },
          "execution_count": 28,
          "metadata": {},
          "output_type": "execute_result"
        }
      ],
      "source": [
        "# validation loss\n",
        "emb = C[Xdev] # (32, 3, 2)\n",
        "h = torch.tanh(emb.view(-1, block_size * embedding_dimensions) @ W1 + b1) # (32, 100)\n",
        "logits = h @ W2 + b2 # (32, 27)\n",
        "loss = F.cross_entropy(logits, Ydev)\n",
        "validation_loss = loss.item()\n",
        "loss"
      ]
    },
    {
      "cell_type": "code",
      "execution_count": null,
      "metadata": {},
      "outputs": [],
      "source": [
        "hyperparameters = {}\n",
        "hyperparameters['block_size'] = block_size\n",
        "hyperparameters['embedding_dimensions'] = embedding_dimensions\n",
        "hyperparameters['layer1_size'] = layer1_size\n",
        "hyperparameters['training_steps'] = training_steps\n",
        "hyperparameters['minibatch_size'] = minibatch_size\n",
        "hyperparameters['learning_rate'] = lr\n",
        "hyperparameters['training_loss'] = loss.item()\n",
        "hyperparameters['validation_loss'] = loss.item()\n",
        "experiments.append(hyperparameters)"
      ]
    },
    {
      "cell_type": "code",
      "execution_count": null,
      "metadata": {},
      "outputs": [],
      "source": [
        "experiments"
      ]
    },
    {
      "cell_type": "code",
      "execution_count": 29,
      "metadata": {
        "colab": {
          "base_uri": "https://localhost:8080/"
        },
        "id": "DwOgCg1vdNhe",
        "outputId": "766db7cb-dbfd-4981-e3c1-93cfa87521f5"
      },
      "outputs": [
        {
          "data": {
            "text/plain": [
              "tensor(4.1042, grad_fn=<NllLossBackward0>)"
            ]
          },
          "execution_count": 29,
          "metadata": {},
          "output_type": "execute_result"
        }
      ],
      "source": [
        "# test loss\n",
        "emb = C[Xte] # (32, 3, 2)\n",
        "h = torch.tanh(emb.view(-1, block_size * embedding_dimensions) @ W1 + b1) # (32, 100)\n",
        "logits = h @ W2 + b2 # (32, 27)\n",
        "loss = F.cross_entropy(logits, Yte)\n",
        "test_loss = loss.item()\n",
        "test_loss"
      ]
    },
    {
      "cell_type": "code",
      "execution_count": 30,
      "metadata": {
        "colab": {
          "base_uri": "https://localhost:8080/",
          "height": 483
        },
        "id": "CCWLYP9GdPP4",
        "outputId": "6e2e7f56-60a1-4312-e964-7ccbfe5f3a25"
      },
      "outputs": [
        {
          "data": {
            "image/png": "[encoded data removed]",
            "text/plain": [
              "<Figure size 800x800 with 1 Axes>"
            ]
          },
          "metadata": {},
          "output_type": "display_data"
        }
      ],
      "source": [
        "if torch.cuda.is_available():\n",
        "    C = C.cpu()\n",
        "# visualize dimensions 0 and 1 of the embedding matrix C for all characters\n",
        "# this doesn't make sense for more than 2 dimensions of embedding\n",
        "plt.figure(figsize=(8,8))\n",
        "plt.scatter(C[:,0].data, C[:,1].data, s=200)\n",
        "for i in range(C.shape[0]):\n",
        "    plt.text(C[i,0].item(), C[i,1].item(), itos[i], ha=\"center\", va=\"center\", color='white')\n",
        "plt.grid('minor')\n",
        "\n",
        "if torch.cuda.is_available():\n",
        "    C = C.cuda()"
      ]
    },
    {
      "cell_type": "code",
      "execution_count": 31,
      "metadata": {
        "colab": {
          "base_uri": "https://localhost:8080/"
        },
        "id": "TQUMmgRrdRIA",
        "outputId": "4618124d-0820-424d-99aa-803c84d680c0"
      },
      "outputs": [
        {
          "name": "stdout",
          "output_type": "stream",
          "text": [
            "cana.\n",
            "hftuoalmsnscellexzaltishannasa.\n",
            "jaroner.\n",
            "aplisat.\n",
            "kabbuxtkyjkego.\n",
            "maiir.\n",
            "kalaeny.\n",
            "hai.\n",
            "jory.\n",
            "qha.\n",
            "teoa.\n",
            "jora.\n",
            "james.\n",
            "wamara.\n",
            "deviyn.\n",
            "kabbuxturuyn.\n",
            "emceklia.\n",
            "gyn.\n",
            "ley.\n",
            "riilahae.\n"
          ]
        }
      ],
      "source": [
        "# sample from the model\n",
        "g = torch.Generator(device=device).manual_seed(2147483647 + 10)\n",
        "\n",
        "for _ in range(20):\n",
        "    \n",
        "    out = []\n",
        "    context = [0] * block_size # initialize with all ...\n",
        "    while True:\n",
        "      emb = C[torch.tensor([context])] # (1,block_size,d)\n",
        "      h = torch.tanh(emb.view(1, -1) @ W1 + b1)\n",
        "      logits = h @ W2 + b2\n",
        "      probs = F.softmax(logits, dim=1)\n",
        "      ix = torch.multinomial(probs, num_samples=1, generator=g).item()\n",
        "      context = context[1:] + [ix]\n",
        "      out.append(ix)\n",
        "      if ix == 0:\n",
        "        break\n",
        "    \n",
        "    print(''.join(itos[i] for i in out))"
      ]
    }
  ],
  "metadata": {
    "colab": {
      "include_colab_link": true,
      "provenance": []
    },
    "kernelspec": {
      "display_name": "makemore-exercises",
      "language": "python",
      "name": "python3"
    },
    "language_info": {
      "codemirror_mode": {
        "name": "ipython",
        "version": 3
      },
      "file_extension": ".py",
      "mimetype": "text/x-python",
      "name": "python",
      "nbconvert_exporter": "python",
      "pygments_lexer": "ipython3",
      "version": "3.10.9"
    },
    "vscode": {
      "interpreter": {
        "hash": "c0c9e801fb8448d9b1392dc57d73a37f0516200409c6336486284a1563d580af"
      }
    }
  },
  "nbformat": 4,
  "nbformat_minor": 0
}
