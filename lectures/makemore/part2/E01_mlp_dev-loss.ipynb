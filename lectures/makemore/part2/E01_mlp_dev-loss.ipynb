{
  "cells": [
    {
      "attachments": {},
      "cell_type": "markdown",
      "metadata": {
        "colab_type": "text",
        "id": "view-in-github"
      },
      "source": [
        "<a href=\"https://colab.research.google.com/github/ReylordDev/nn-zero-to-hero-exercises/blob/master/lectures/makemore/part2/E01_mlp_dev-loss.ipynb\" target=\"_parent\"><img src=\"https://colab.research.google.com/assets/colab-badge.svg\" alt=\"Open In Colab\"/></a>"
      ]
    },
    {
      "cell_type": "code",
      "execution_count": 626,
      "metadata": {
        "id": "vowXRstocd8F"
      },
      "outputs": [],
      "source": [
        "import torch\n",
        "import torch.nn.functional as F\n",
        "import matplotlib.pyplot as plt # for making figures\n",
        "%matplotlib inline"
      ]
    },
    {
      "cell_type": "code",
      "execution_count": 627,
      "metadata": {
        "id": "W31WQwLOG-9_"
      },
      "outputs": [],
      "source": [
        "device = torch.device('cuda' if torch.cuda.is_available() else 'cpu')"
      ]
    },
    {
      "cell_type": "code",
      "execution_count": 649,
      "metadata": {
        "id": "9Rlc3YeWcm_d"
      },
      "outputs": [],
      "source": [
        "# If running from colab:\n",
        "# download the names.txt file from github\n",
        "# !wget https://raw.githubusercontent.com/ReylordDev/nn-zero-to-hero-exercises/master/lectures/makemore/names.txt"
      ]
    },
    {
      "cell_type": "code",
      "execution_count": 629,
      "metadata": {
        "id": "uH2MGP4FcidR"
      },
      "outputs": [],
      "source": [
        "# change path to 'names.txt' if running in colab\n",
        "words = open('../names.txt', 'r').read().splitlines()"
      ]
    },
    {
      "cell_type": "code",
      "execution_count": 630,
      "metadata": {
        "id": "EYnXhmWVcx-l"
      },
      "outputs": [],
      "source": [
        "# build the vocabulary of characters and mappings to/from integers\n",
        "chars = sorted(list(set(''.join(words))))\n",
        "stoi = {s:i+1 for i,s in enumerate(chars)}\n",
        "stoi['.'] = 0\n",
        "itos = {i:s for s,i in stoi.items()}"
      ]
    },
    {
      "cell_type": "code",
      "execution_count": 631,
      "metadata": {
        "id": "P__0g5EVG--B"
      },
      "outputs": [],
      "source": [
        "train_split_index = int(len(words)*0.8)\n",
        "dev_split_index = int(len(words)*0.9)"
      ]
    },
    {
      "cell_type": "code",
      "execution_count": 632,
      "metadata": {
        "id": "iy_Gl7nrG--B"
      },
      "outputs": [],
      "source": [
        "experiments = []"
      ]
    },
    {
      "cell_type": "code",
      "execution_count": 633,
      "metadata": {
        "id": "vB6bjfWiG--C"
      },
      "outputs": [],
      "source": [
        "block_size = 5 # context length: how many characters do we take to predict the next one?\n",
        "embedding_dimensions = 3 # how many dimensions should the projected space of the characters have?\n",
        "layer1_size = 400 # how many neurons should the first layer have? Layer 2 will have the same number of neurons to match dimensions.\n",
        "training_steps = 500000 # how many training steps should we take?\n",
        "minibatch_size = 128 # how many examples should we use to update the weights at each step?"
      ]
    },
    {
      "cell_type": "code",
      "execution_count": 634,
      "metadata": {
        "colab": {
          "base_uri": "https://localhost:8080/"
        },
        "id": "MB5XgJxdczFi",
        "outputId": "f444d9ef-cfe9-4f83-8500-c7254c240854"
      },
      "outputs": [
        {
          "name": "stdout",
          "output_type": "stream",
          "text": [
            "torch.Size([182625, 5]) torch.Size([182625])\n",
            "torch.Size([22655, 5]) torch.Size([22655])\n",
            "torch.Size([22866, 5]) torch.Size([22866])\n"
          ]
        }
      ],
      "source": [
        "# build the dataset\n",
        "\n",
        "def build_dataset(words):\n",
        "  X, Y = [], []\n",
        "  for w in words:\n",
        "\n",
        "    #print(w)\n",
        "    context = [0] * block_size\n",
        "    for ch in w + '.':\n",
        "      ix = stoi[ch]\n",
        "      X.append(context)\n",
        "      Y.append(ix)\n",
        "      #print(''.join(itos[i] for i in context), '--->', itos[ix])\n",
        "      context = context[1:] + [ix] # crop and append\n",
        "\n",
        "  X = torch.tensor(X, device=device)\n",
        "  Y = torch.tensor(Y, device=device)\n",
        "  print(X.shape, Y.shape)\n",
        "  return X, Y\n",
        "\n",
        "import random\n",
        "random.seed(42)\n",
        "random.shuffle(words)\n",
        "\n",
        "Xtr, Ytr = build_dataset(words[:train_split_index])\n",
        "Xdev, Ydev = build_dataset(words[train_split_index:dev_split_index])\n",
        "Xte, Yte = build_dataset(words[dev_split_index:])"
      ]
    },
    {
      "cell_type": "code",
      "execution_count": 635,
      "metadata": {
        "id": "EAA0_oigc13X"
      },
      "outputs": [],
      "source": [
        "g = torch.Generator(device=device).manual_seed(2147483647) # for reproducibility\n",
        "C = torch.randn((27, embedding_dimensions), generator=g, device=device)\n",
        "W1 = torch.randn((block_size * embedding_dimensions, layer1_size), generator=g, device=device)\n",
        "b1 = torch.randn(layer1_size, generator=g, device=device)\n",
        "W2 = torch.randn((layer1_size, 27), generator=g, device=device)\n",
        "b2 = torch.randn(27, generator=g, device=device)\n",
        "parameters = [C, W1, b1, W2, b2]"
      ]
    },
    {
      "cell_type": "code",
      "execution_count": 636,
      "metadata": {
        "id": "_HcVef6-c5S4"
      },
      "outputs": [],
      "source": [
        "n_parameters = sum(p.nelement() for p in parameters) # number of parameters in total"
      ]
    },
    {
      "cell_type": "code",
      "execution_count": 637,
      "metadata": {
        "id": "coNBea1sc6tm"
      },
      "outputs": [],
      "source": [
        "for p in parameters:\n",
        "  p.requires_grad = True"
      ]
    },
    {
      "cell_type": "code",
      "execution_count": 638,
      "metadata": {
        "id": "nFWpAj_9c9Yr"
      },
      "outputs": [],
      "source": [
        "# learning rates\n",
        "lre = torch.linspace(-3, 0, 1000)\n",
        "lrs = 10**lre"
      ]
    },
    {
      "cell_type": "code",
      "execution_count": 639,
      "metadata": {
        "id": "t2huuyTudBlF"
      },
      "outputs": [],
      "source": [
        "lri = []\n",
        "lossi = []\n",
        "stepi = []"
      ]
    },
    {
      "cell_type": "code",
      "execution_count": 640,
      "metadata": {
        "id": "jiKD-PPOdClh"
      },
      "outputs": [],
      "source": [
        "\n",
        "for i in range(training_steps):\n",
        "  \n",
        "  # minibatch construct\n",
        "  ix = torch.randint(0, Xtr.shape[0], (minibatch_size,), device=device)\n",
        "  \n",
        "  # forward pass\n",
        "  emb = C[Xtr[ix]] # (32, 3, 2)\n",
        "  h = torch.tanh(emb.view(-1, block_size * embedding_dimensions) @ W1 + b1) # (32, 100)\n",
        "  logits = h @ W2 + b2 # (32, 27)\n",
        "  loss = F.cross_entropy(logits, Ytr[ix])\n",
        "  #print(loss.item())\n",
        "  \n",
        "  # backward pass\n",
        "  for p in parameters:\n",
        "    p.grad = None\n",
        "  loss.backward()\n",
        "  \n",
        "  # update\n",
        "  #lr = lrs[i]\n",
        "  lr = 0.1 if i < (training_steps / 2) else 0.01\n",
        "  for p in parameters:\n",
        "    p.data += -lr * p.grad\n",
        "\n",
        "  # track stats\n",
        "  stepi.append(i)\n",
        "  lossi.append(loss.log10().item())\n",
        "\n",
        "#print(loss.item())"
      ]
    },
    {
      "cell_type": "code",
      "execution_count": 641,
      "metadata": {
        "colab": {
          "base_uri": "https://localhost:8080/"
        },
        "id": "ZlhYinNgdIVF",
        "outputId": "8cc8e4e0-2ec8-4616-d7f6-7e90cf94ff73"
      },
      "outputs": [
        {
          "data": {
            "text/plain": [
              "tensor(2.0481, device='cuda:0', grad_fn=<NllLossBackward0>)"
            ]
          },
          "execution_count": 641,
          "metadata": {},
          "output_type": "execute_result"
        }
      ],
      "source": [
        "# training loss \n",
        "emb = C[Xtr] # (32, 3, 2)\n",
        "h = torch.tanh(emb.view(-1, block_size * embedding_dimensions) @ W1 + b1) # (32, 100)\n",
        "logits = h @ W2 + b2 # (32, 27)\n",
        "loss = F.cross_entropy(logits, Ytr)\n",
        "training_loss = loss.item()\n",
        "loss"
      ]
    },
    {
      "cell_type": "code",
      "execution_count": 642,
      "metadata": {
        "colab": {
          "base_uri": "https://localhost:8080/"
        },
        "id": "cJH3DDu4dLTM",
        "outputId": "217387c5-6100-44ee-fa70-a18acf4a6a25"
      },
      "outputs": [
        {
          "data": {
            "text/plain": [
              "tensor(2.1008, device='cuda:0', grad_fn=<NllLossBackward0>)"
            ]
          },
          "execution_count": 642,
          "metadata": {},
          "output_type": "execute_result"
        }
      ],
      "source": [
        "# validation loss\n",
        "emb = C[Xdev] # (32, 3, 2)\n",
        "h = torch.tanh(emb.view(-1, block_size * embedding_dimensions) @ W1 + b1) # (32, 100)\n",
        "logits = h @ W2 + b2 # (32, 27)\n",
        "loss = F.cross_entropy(logits, Ydev)\n",
        "validation_loss = loss.item()\n",
        "loss"
      ]
    },
    {
      "cell_type": "code",
      "execution_count": 643,
      "metadata": {
        "id": "tMpwf0O7G--H"
      },
      "outputs": [],
      "source": [
        "hyperparameters = {}\n",
        "hyperparameters['block_size'] = block_size\n",
        "hyperparameters['embedding_dimensions'] = embedding_dimensions\n",
        "hyperparameters['layer1_size'] = layer1_size\n",
        "hyperparameters['training_steps'] = training_steps\n",
        "hyperparameters['minibatch_size'] = minibatch_size\n",
        "hyperparameters['learning_rate'] = lr\n",
        "hyperparameters['training_loss'] = training_loss\n",
        "hyperparameters['validation_loss'] = validation_loss\n",
        "hyperparameters['parameters'] = n_parameters\n",
        "experiments.append(hyperparameters)"
      ]
    },
    {
      "cell_type": "code",
      "execution_count": 644,
      "metadata": {
        "colab": {
          "base_uri": "https://localhost:8080/"
        },
        "id": "xcqsztKyG--H",
        "outputId": "bf15e9be-ac16-4af6-c0e1-121f369afc6d"
      },
      "outputs": [
        {
          "data": {
            "text/plain": [
              "[{'block_size': 5,\n",
              "  'embedding_dimensions': 3,\n",
              "  'layer1_size': 400,\n",
              "  'training_steps': 500000,\n",
              "  'minibatch_size': 128,\n",
              "  'learning_rate': 0.01,\n",
              "  'training_loss': 2.048057794570923,\n",
              "  'validation_loss': 2.100818395614624,\n",
              "  'parameters': 17308}]"
            ]
          },
          "execution_count": 644,
          "metadata": {},
          "output_type": "execute_result"
        }
      ],
      "source": [
        "experiments"
      ]
    },
    {
      "cell_type": "code",
      "execution_count": 645,
      "metadata": {
        "colab": {
          "base_uri": "https://localhost:8080/"
        },
        "id": "DwOgCg1vdNhe",
        "outputId": "d472fb13-e1aa-498b-afa9-cc3fa71c02b4"
      },
      "outputs": [
        {
          "data": {
            "text/plain": [
              "2.1052966117858887"
            ]
          },
          "execution_count": 645,
          "metadata": {},
          "output_type": "execute_result"
        }
      ],
      "source": [
        "# test loss\n",
        "emb = C[Xte] # (32, 3, 2)\n",
        "h = torch.tanh(emb.view(-1, block_size * embedding_dimensions) @ W1 + b1) # (32, 100)\n",
        "logits = h @ W2 + b2 # (32, 27)\n",
        "loss = F.cross_entropy(logits, Yte)\n",
        "test_loss = loss.item()\n",
        "test_loss"
      ]
    },
    {
      "cell_type": "code",
      "execution_count": 646,
      "metadata": {
        "colab": {
          "base_uri": "https://localhost:8080/",
          "height": 483
        },
        "id": "CCWLYP9GdPP4",
        "outputId": "d7e06ca9-d67c-4116-efab-8f8b81bb3ba8"
      },
      "outputs": [
        {
          "data": {
            "image/png": "[encoded data removed]",
            "text/plain": [
              "<Figure size 576x576 with 1 Axes>"
            ]
          },
          "metadata": {
            "needs_background": "light"
          },
          "output_type": "display_data"
        }
      ],
      "source": [
        "if torch.cuda.is_available():\n",
        "    C = C.cpu()\n",
        "# visualize dimensions 0 and 1 of the embedding matrix C for all characters\n",
        "# this doesn't make sense for more than 2 dimensions of embedding\n",
        "plt.figure(figsize=(8,8))\n",
        "plt.scatter(C[:,0].data, C[:,1].data, s=200)\n",
        "for i in range(C.shape[0]):\n",
        "    plt.text(C[i,0].item(), C[i,1].item(), itos[i], ha=\"center\", va=\"center\", color='white')\n",
        "plt.grid('minor')\n",
        "\n",
        "if torch.cuda.is_available():\n",
        "    C = C.cuda()"
      ]
    },
    {
      "cell_type": "code",
      "execution_count": 648,
      "metadata": {
        "colab": {
          "base_uri": "https://localhost:8080/"
        },
        "id": "TQUMmgRrdRIA",
        "outputId": "35eca5be-148e-4496-d221-30e6548c4d61"
      },
      "outputs": [
        {
          "name": "stdout",
          "output_type": "stream",
          "text": [
            "khen.\n",
            "epzylwin.\n",
            "yulane.\n",
            "brantley.\n",
            "kalyssa.\n",
            "xobria.\n",
            "rine.\n",
            "delene.\n",
            "duner.\n",
            "chened.\n",
            "dinger.\n",
            "evonte.\n",
            "raylian.\n",
            "dison.\n",
            "stoedthtente.\n",
            "sanish.\n",
            "malya.\n",
            "avaurin.\n",
            "samaya.\n",
            "tayah.\n"
          ]
        }
      ],
      "source": [
        "# sample from the model\n",
        "g = torch.Generator(device=device).manual_seed(2147483647)\n",
        "\n",
        "for _ in range(20):\n",
        "    \n",
        "    out = []\n",
        "    context = [0] * block_size # initialize with all ...\n",
        "    while True:\n",
        "      emb = C[torch.tensor([context])] # (1,block_size,d)\n",
        "      h = torch.tanh(emb.view(1, -1) @ W1 + b1)\n",
        "      logits = h @ W2 + b2\n",
        "      probs = F.softmax(logits, dim=1)\n",
        "      ix = torch.multinomial(probs, num_samples=1, generator=g).item()\n",
        "      context = context[1:] + [ix]\n",
        "      out.append(ix)\n",
        "      if ix == 0:\n",
        "        break\n",
        "    \n",
        "    print(''.join(itos[i] for i in out))"
      ]
    }
  ],
  "metadata": {
    "accelerator": "GPU",
    "colab": {
      "include_colab_link": true,
      "provenance": []
    },
    "gpuClass": "standard",
    "kernelspec": {
      "display_name": "makemore-exercises",
      "language": "python",
      "name": "python3"
    },
    "language_info": {
      "codemirror_mode": {
        "name": "ipython",
        "version": 3
      },
      "file_extension": ".py",
      "mimetype": "text/x-python",
      "name": "python",
      "nbconvert_exporter": "python",
      "pygments_lexer": "ipython3",
      "version": "3.10.9"
    },
    "vscode": {
      "interpreter": {
        "hash": "c0c9e801fb8448d9b1392dc57d73a37f0516200409c6336486284a1563d580af"
      }
    }
  },
  "nbformat": 4,
  "nbformat_minor": 0
}
